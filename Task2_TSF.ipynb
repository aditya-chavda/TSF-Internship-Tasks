{
  "nbformat": 4,
  "nbformat_minor": 0,
  "metadata": {
    "colab": {
      "name": "Task2_TSF.ipynb",
      "provenance": [],
      "collapsed_sections": [],
      "include_colab_link": true
    },
    "kernelspec": {
      "name": "python3",
      "display_name": "Python 3"
    }
  },
  "cells": [
    {
      "cell_type": "markdown",
      "metadata": {
        "id": "view-in-github",
        "colab_type": "text"
      },
      "source": [
        "<a href=\"https://colab.research.google.com/github/aditya-chavda/TSF-Internship-Tasks/blob/master/Task2_TSF.ipynb\" target=\"_parent\"><img src=\"https://colab.research.google.com/assets/colab-badge.svg\" alt=\"Open In Colab\"/></a>"
      ]
    },
    {
      "cell_type": "markdown",
      "metadata": {
        "id": "Vef09cp1iJBB",
        "colab_type": "text"
      },
      "source": [
        "# Title: To Explore Supervised Machine Learning \n",
        "## Linear Regression from Scratch\n",
        "Description: In this regression task, we will predict the percentage of marks that a student is expected to score based upon the number of hours they have studied. This is a simple linear regression task as it involves just one variables."
      ]
    },
    {
      "cell_type": "markdown",
      "metadata": {
        "id": "NraM2CVnr64T",
        "colab_type": "text"
      },
      "source": [
        "## Author: Aditya Chavda\n",
        "####Date created: 9th September, 2020\n",
        "This notebook is created to complete the above stated task given as part of data science internship under The Sparks Foundation."
      ]
    },
    {
      "cell_type": "code",
      "metadata": {
        "id": "scRynNpKiBk_",
        "colab_type": "code",
        "colab": {}
      },
      "source": [
        "#Importing all the necessary libraries\n",
        "import numpy as np\n",
        "import pandas as pd\n",
        "import matplotlib.pyplot as plt\n",
        "%matplotlib inline"
      ],
      "execution_count": null,
      "outputs": []
    },
    {
      "cell_type": "code",
      "metadata": {
        "id": "oW51IoF1kNLu",
        "colab_type": "code",
        "colab": {
          "base_uri": "https://localhost:8080/",
          "height": 216
        },
        "outputId": "bf7a0bdc-f0d0-4ff7-d2d6-a0a832277773"
      },
      "source": [
        "#Reading from the provided dataset\n",
        "data = pd.read_csv(\"http://bit.ly/w-data\") \n",
        "print(\"Data imported successfully\")\n",
        "X = data.iloc[:,0] \n",
        "y = data.iloc[:,1] \n",
        "m = len(y) # number of training examples\n",
        "data.head() # showing first few data"
      ],
      "execution_count": null,
      "outputs": [
        {
          "output_type": "stream",
          "text": [
            "Data imported successfully\n"
          ],
          "name": "stdout"
        },
        {
          "output_type": "execute_result",
          "data": {
            "text/html": [
              "<div>\n",
              "<style scoped>\n",
              "    .dataframe tbody tr th:only-of-type {\n",
              "        vertical-align: middle;\n",
              "    }\n",
              "\n",
              "    .dataframe tbody tr th {\n",
              "        vertical-align: top;\n",
              "    }\n",
              "\n",
              "    .dataframe thead th {\n",
              "        text-align: right;\n",
              "    }\n",
              "</style>\n",
              "<table border=\"1\" class=\"dataframe\">\n",
              "  <thead>\n",
              "    <tr style=\"text-align: right;\">\n",
              "      <th></th>\n",
              "      <th>Hours</th>\n",
              "      <th>Scores</th>\n",
              "    </tr>\n",
              "  </thead>\n",
              "  <tbody>\n",
              "    <tr>\n",
              "      <th>0</th>\n",
              "      <td>2.5</td>\n",
              "      <td>21</td>\n",
              "    </tr>\n",
              "    <tr>\n",
              "      <th>1</th>\n",
              "      <td>5.1</td>\n",
              "      <td>47</td>\n",
              "    </tr>\n",
              "    <tr>\n",
              "      <th>2</th>\n",
              "      <td>3.2</td>\n",
              "      <td>27</td>\n",
              "    </tr>\n",
              "    <tr>\n",
              "      <th>3</th>\n",
              "      <td>8.5</td>\n",
              "      <td>75</td>\n",
              "    </tr>\n",
              "    <tr>\n",
              "      <th>4</th>\n",
              "      <td>3.5</td>\n",
              "      <td>30</td>\n",
              "    </tr>\n",
              "  </tbody>\n",
              "</table>\n",
              "</div>"
            ],
            "text/plain": [
              "   Hours  Scores\n",
              "0    2.5      21\n",
              "1    5.1      47\n",
              "2    3.2      27\n",
              "3    8.5      75\n",
              "4    3.5      30"
            ]
          },
          "metadata": {
            "tags": []
          },
          "execution_count": 2
        }
      ]
    },
    {
      "cell_type": "code",
      "metadata": {
        "id": "ikrUJsSLkrtv",
        "colab_type": "code",
        "colab": {
          "base_uri": "https://localhost:8080/",
          "height": 279
        },
        "outputId": "5aeaa751-c921-4a79-cae5-37b6f4323cc4"
      },
      "source": [
        "# Plotting the data\n",
        "plt.scatter(X,y)  \n",
        "plt.xlabel('Hours Studied')  \n",
        "plt.ylabel('Percentage Score')  \n",
        "plt.show()"
      ],
      "execution_count": null,
      "outputs": [
        {
          "output_type": "display_data",
          "data": {
            "image/png": "[encoded data removed]",
            "text/plain": [
              "<Figure size 432x288 with 1 Axes>"
            ]
          },
          "metadata": {
            "tags": [],
            "needs_background": "light"
          }
        }
      ]
    },
    {
      "cell_type": "code",
      "metadata": {
        "id": "NwcVdosak9oi",
        "colab_type": "code",
        "colab": {}
      },
      "source": [
        "# Preparing the data\n",
        "X = X[:,np.newaxis]\n",
        "y = y[:,np.newaxis]\n",
        "theta = np.zeros([2,1]) # initialize to zero\n",
        "iterations = 1000\n",
        "alpha = 0.01 # learning rate\n",
        "ones = np.ones((m,1))\n",
        "X = np.hstack((ones, X)) # adding the intercept term"
      ],
      "execution_count": null,
      "outputs": []
    },
    {
      "cell_type": "markdown",
      "metadata": {
        "id": "0ZZG5T_LtBff",
        "colab_type": "text"
      },
      "source": [
        "####Training the Algorithm\n",
        "\n",
        "![Untitled.png](data:image/png;base64,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)\n",
        "\n",
        "####Hypothesis Function\n",
        "![image.png](data:image/png;base64,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)\n",
        "\n",
        "\n",
        "####Cost Function\n",
        "![image.png](data:image/png;base64,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)\n",
        "\n",
        "####Gradient Descent\n",
        "![image.png](data:image/png;base64,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)"
      ]
    },
    {
      "cell_type": "code",
      "metadata": {
        "id": "vZ7b0hs6mfjK",
        "colab_type": "code",
        "colab": {
          "base_uri": "https://localhost:8080/",
          "height": 54
        },
        "outputId": "7f5816f3-e482-4ee0-9174-c827e443b306"
      },
      "source": [
        "def gradientDescent(X, y, theta, alpha, iterations):\n",
        "    for _ in range(iterations):\n",
        "        temp = np.dot(X, theta) - y\n",
        "        temp = np.dot(X.T, temp)\n",
        "        theta = theta - (alpha/m) * temp \n",
        "    return theta\n",
        "    \n",
        "theta = gradientDescent(X, y, theta, alpha, iterations)\n",
        "print(theta)"
      ],
      "execution_count": null,
      "outputs": [
        {
          "output_type": "stream",
          "text": [
            "[[2.35317894]\n",
            " [9.79686728]]\n"
          ],
          "name": "stdout"
        }
      ]
    },
    {
      "cell_type": "code",
      "metadata": {
        "id": "pvf8TtXdmmHo",
        "colab_type": "code",
        "colab": {
          "base_uri": "https://localhost:8080/",
          "height": 35
        },
        "outputId": "63cdadbe-d76c-4933-8e7d-b4bf7a7620ac"
      },
      "source": [
        "def computeCost(X, y, theta):\n",
        "    temp = np.dot(X, theta) - y\n",
        "    return np.sum(np.power(temp, 2)) / (2*m)\n",
        "\n",
        "J = computeCost(X, y, theta)\n",
        "print(\"Cost:\",J)"
      ],
      "execution_count": null,
      "outputs": [
        {
          "output_type": "stream",
          "text": [
            "Cost: 14.443033731858964\n"
          ],
          "name": "stdout"
        }
      ]
    },
    {
      "cell_type": "markdown",
      "metadata": {
        "id": "DaqAf4H8w1dt",
        "colab_type": "text"
      },
      "source": [
        "####Accuracy on the dataset"
      ]
    },
    {
      "cell_type": "code",
      "metadata": {
        "id": "iXHy7vKUBTRm",
        "colab_type": "code",
        "colab": {
          "base_uri": "https://localhost:8080/",
          "height": 35
        },
        "outputId": "c53fae6d-5362-415a-9d82-14ba00b4aebf"
      },
      "source": [
        "def score(X,y,theta):\n",
        "    temp = np.dot(X, theta) - y\n",
        "    return 100-np.mean(np.abs(temp))\n",
        "\n",
        "print(f\"Accuracy: {score(X,y,theta)} %\")"
      ],
      "execution_count": null,
      "outputs": [
        {
          "output_type": "stream",
          "text": [
            "Accuracy: 95.01819153233679 %\n"
          ],
          "name": "stdout"
        }
      ]
    },
    {
      "cell_type": "code",
      "metadata": {
        "id": "1ZnEODPnmv2d",
        "colab_type": "code",
        "colab": {
          "base_uri": "https://localhost:8080/",
          "height": 279
        },
        "outputId": "d41769ba-225a-4597-e824-fd32a740f6fd"
      },
      "source": [
        "# Plotting the regression line\n",
        "plt.scatter(X[:,1], y)\n",
        "plt.xlabel('Hours Studied')  \n",
        "plt.ylabel('Percentage Score')\n",
        "plt.plot(X[:,1], np.dot(X, theta))\n",
        "plt.show()"
      ],
      "execution_count": null,
      "outputs": [
        {
          "output_type": "display_data",
          "data": {
            "image/png": "[encoded data removed]",
            "text/plain": [
              "<Figure size 432x288 with 1 Axes>"
            ]
          },
          "metadata": {
            "tags": [],
            "needs_background": "light"
          }
        }
      ]
    },
    {
      "cell_type": "markdown",
      "metadata": {
        "id": "dPySRtWhxC11",
        "colab_type": "text"
      },
      "source": [
        "####Making Predictions"
      ]
    },
    {
      "cell_type": "code",
      "metadata": {
        "id": "IgC6kQQGm3K-",
        "colab_type": "code",
        "colab": {
          "base_uri": "https://localhost:8080/",
          "height": 35
        },
        "outputId": "fc939bca-9935-4c17-c40e-4618387c6e9a"
      },
      "source": [
        "#Predicting with new data\n",
        "hours = 9.25\n",
        "pred = np.dot([1.,hours], theta)[0]\n",
        "print(\"Predicted score {:.1f}% to be achieved by studying for {} hours.\".format(pred,hours))"
      ],
      "execution_count": null,
      "outputs": [
        {
          "output_type": "stream",
          "text": [
            "Predicted score 93.0% to be achieved by studying for 9.25 hours.\n"
          ],
          "name": "stdout"
        }
      ]
    },
    {
      "cell_type": "markdown",
      "metadata": {
        "id": "nfM9_9WFxGfO",
        "colab_type": "text"
      },
      "source": [
        "####Evaluating the model\n",
        "using Mean Absolute Error"
      ]
    },
    {
      "cell_type": "code",
      "metadata": {
        "id": "AKKSKY9U7ZHq",
        "colab_type": "code",
        "colab": {
          "base_uri": "https://localhost:8080/",
          "height": 35
        },
        "outputId": "c22b31b7-f038-4f54-e7db-727ae3f34caa"
      },
      "source": [
        "y_pred = np.dot(X,theta) # predicting the available data\n",
        "err = np.abs(y - y_pred) # difference of actual and the predicted score\n",
        "\n",
        "print(\"Mean Absolute Error:\", np.mean(err)) "
      ],
      "execution_count": null,
      "outputs": [
        {
          "output_type": "stream",
          "text": [
            "Mean Absolute Error: 4.981808467663215\n"
          ],
          "name": "stdout"
        }
      ]
    }
  ]
}